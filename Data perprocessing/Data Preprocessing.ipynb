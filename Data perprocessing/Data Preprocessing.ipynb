{
 "cells": [
  {
   "cell_type": "code",
   "execution_count": 1,
   "metadata": {},
   "outputs": [
    {
     "data": {
      "text/plain": [
       "<module 'data' from '/home/himanshu/Desktop/rawdata/data.py'>"
      ]
     },
     "execution_count": 1,
     "metadata": {},
     "output_type": "execute_result"
    }
   ],
   "source": [
    "import data\n",
    "import importlib\n",
    "importlib.reload(data)"
   ]
  },
  {
   "cell_type": "code",
   "execution_count": 2,
   "metadata": {},
   "outputs": [],
   "source": [
    "TA_BLACKLIST = 'ABCDEFGHIJKLMNOPQRSTUVWXYZabcdefghijklmnopqrstuvwxyz-(\\')/[]♪/%#$&\\/_\"{.}|=<>@~`'\n",
    "EN_BLACKLIST = 'ABCDEFGHIJKLMNOPQRSTUVWXYZ\"#\"\"$%&\\()*+-./:;<=>@[\\\\]^_`♪{|}~='"
   ]
  },
  {
   "cell_type": "code",
   "execution_count": 3,
   "metadata": {},
   "outputs": [],
   "source": [
    "def readfile(filename):\n",
    "    return open(filename,encoding='utf-8').read().split('\\n')[:-1]"
   ]
  },
  {
   "cell_type": "markdown",
   "metadata": {},
   "source": [
    "# loading from raw data"
   ]
  },
  {
   "cell_type": "code",
   "execution_count": 4,
   "metadata": {},
   "outputs": [
    {
     "name": "stdout",
     "output_type": "stream",
     "text": [
      "1000\n",
      "166871\n",
      "2000\n",
      "32417\n",
      "21397\n"
     ]
    }
   ],
   "source": [
    "en_sen=[]\n",
    "for i in range(1,6):\n",
    "    file=readfile('en%d'%i)\n",
    "    print(len(file))\n",
    "    for i in range(len(file)):\n",
    "        en_sen.append(file[i])"
   ]
  },
  {
   "cell_type": "code",
   "execution_count": 5,
   "metadata": {},
   "outputs": [
    {
     "data": {
      "text/plain": [
       "'Now the sons of Saul were Jonathan, and Ishui, and Melchishua: and the names of his two daughters were these; the name of the firstborn Merab, and the name of the younger Michal:'"
      ]
     },
     "execution_count": 5,
     "metadata": {},
     "output_type": "execute_result"
    }
   ],
   "source": [
    "en_sen[0]"
   ]
  },
  {
   "cell_type": "code",
   "execution_count": 6,
   "metadata": {},
   "outputs": [
    {
     "name": "stdout",
     "output_type": "stream",
     "text": [
      "1000\n",
      "166871\n",
      "2000\n",
      "32417\n",
      "21397\n"
     ]
    }
   ],
   "source": [
    "ta_sen=[]\n",
    "for i in range(1,6):\n",
    "    file=readfile('ta%d'%i)\n",
    "    print(len(file))\n",
    "    for i in range(len(file)):\n",
    "        ta_sen.append(file[i])"
   ]
  },
  {
   "cell_type": "markdown",
   "metadata": {},
   "source": [
    "# Clean and filter "
   ]
  },
  {
   "cell_type": "code",
   "execution_count": 7,
   "metadata": {},
   "outputs": [],
   "source": [
    "en_lines = [ line.lower() for line in en_sen]\n",
    "\n",
    "ta_lines = [ data.filter_line(line, TA_BLACKLIST) for line in ta_sen ]\n",
    "en_lines = [ data.filter_line(line, EN_BLACKLIST) for line in en_lines ]\n",
    "\n",
    "ta_lines = [ \" \".join(line.split())+' .' for line in ta_lines ]\n",
    "en_lines = [ \" \".join(line.split())+' .' for line in en_lines ]"
   ]
  },
  {
   "cell_type": "code",
   "execution_count": 8,
   "metadata": {},
   "outputs": [
    {
     "data": {
      "text/plain": [
       "223685"
      ]
     },
     "execution_count": 8,
     "metadata": {},
     "output_type": "execute_result"
    }
   ],
   "source": [
    "len(en_lines)"
   ]
  },
  {
   "cell_type": "code",
   "execution_count": 9,
   "metadata": {},
   "outputs": [
    {
     "name": "stdout",
     "output_type": "stream",
     "text": [
      "8% filtered from original data\n"
     ]
    }
   ],
   "source": [
    "ta_lines, en_lines = data.filter_data(ta_lines, en_lines)"
   ]
  },
  {
   "cell_type": "code",
   "execution_count": 10,
   "metadata": {},
   "outputs": [
    {
     "data": {
      "text/plain": [
       "204899"
      ]
     },
     "execution_count": 10,
     "metadata": {},
     "output_type": "execute_result"
    }
   ],
   "source": [
    "len(en_lines)"
   ]
  },
  {
   "cell_type": "code",
   "execution_count": 11,
   "metadata": {},
   "outputs": [],
   "source": [
    "#new_en=[]\n",
    "#new_ta=[]\n",
    "#for i,j in zip(en_sen,ta_sen):\n",
    " #   i=i.split()\n",
    "  #  j=j.split()\n",
    "   # if len(i)>=2 and len(j)>=2:\n",
    "    #    new_en.append(\" \".join(i))\n",
    "     #   new_ta.append(\" \".join(j))"
   ]
  },
  {
   "cell_type": "code",
   "execution_count": 49,
   "metadata": {},
   "outputs": [],
   "source": [
    "def save_clean_sentences(sentences1,sentences2,filename1,filename2):\n",
    "    file1 = open(filename1, 'w',encoding='utf-8')\n",
    "    file2 = open(filename2, 'w',encoding='utf-8')\n",
    "    for i,j in zip(sentences1,sentences2):\n",
    "        file1.write(\"%s\\n\" % i)\n",
    "        file2.write(\"%s\\n\" % j)"
   ]
  },
  {
   "cell_type": "code",
   "execution_count": 13,
   "metadata": {},
   "outputs": [],
   "source": [
    "save_clean_sentences(en_lines,ta_lines,\"endata.txt\",\"tadata.txt\")"
   ]
  },
  {
   "cell_type": "code",
   "execution_count": 14,
   "metadata": {},
   "outputs": [],
   "source": [
    "file1=readfile('endata.txt')\n",
    "file2=readfile('tadata.txt')"
   ]
  },
  {
   "cell_type": "markdown",
   "metadata": {},
   "source": [
    "# Removing Duplicates"
   ]
  },
  {
   "cell_type": "code",
   "execution_count": 15,
   "metadata": {},
   "outputs": [],
   "source": [
    "mix=[]\n",
    "for i,j in zip(file1,file2):\n",
    "    mix.append(i+\"*|*\"+j)"
   ]
  },
  {
   "cell_type": "code",
   "execution_count": 16,
   "metadata": {},
   "outputs": [
    {
     "data": {
      "text/plain": [
       "204899"
      ]
     },
     "execution_count": 16,
     "metadata": {},
     "output_type": "execute_result"
    }
   ],
   "source": [
    "len(mix)"
   ]
  },
  {
   "cell_type": "code",
   "execution_count": 17,
   "metadata": {},
   "outputs": [],
   "source": [
    "mix=list(set(mix))"
   ]
  },
  {
   "cell_type": "code",
   "execution_count": 18,
   "metadata": {},
   "outputs": [
    {
     "data": {
      "text/plain": [
       "187189"
      ]
     },
     "execution_count": 18,
     "metadata": {},
     "output_type": "execute_result"
    }
   ],
   "source": [
    "len(mix)"
   ]
  },
  {
   "cell_type": "code",
   "execution_count": 20,
   "metadata": {},
   "outputs": [],
   "source": [
    "en_data=[]\n",
    "ta_data=[]\n",
    "for i in mix:\n",
    "    i=i.split(\"*|*\")\n",
    "    en_data.append(i[0])\n",
    "    ta_data.append(i[1])"
   ]
  },
  {
   "cell_type": "markdown",
   "metadata": {},
   "source": [
    "## Removing same source with different translation and same translation with different source"
   ]
  },
  {
   "cell_type": "code",
   "execution_count": 21,
   "metadata": {},
   "outputs": [],
   "source": [
    "from collections import Counter"
   ]
  },
  {
   "cell_type": "code",
   "execution_count": 22,
   "metadata": {},
   "outputs": [],
   "source": [
    "a=Counter(en_data)"
   ]
  },
  {
   "cell_type": "code",
   "execution_count": 23,
   "metadata": {},
   "outputs": [],
   "source": [
    "remove=[]\n",
    "for i,j in a.items():\n",
    "    if j>1:\n",
    "        remove.append(i)"
   ]
  },
  {
   "cell_type": "code",
   "execution_count": 24,
   "metadata": {},
   "outputs": [],
   "source": [
    "en_data2=[]\n",
    "ta_data2=[]\n",
    "for i in range(len(en_data)):\n",
    "    if en_data[i] not in remove:\n",
    "        en_data2.append(en_data[i])\n",
    "        ta_data2.append(ta_data[i])"
   ]
  },
  {
   "cell_type": "code",
   "execution_count": 25,
   "metadata": {},
   "outputs": [
    {
     "data": {
      "text/plain": [
       "186714"
      ]
     },
     "execution_count": 25,
     "metadata": {},
     "output_type": "execute_result"
    }
   ],
   "source": [
    "len(en_data2)"
   ]
  },
  {
   "cell_type": "code",
   "execution_count": 26,
   "metadata": {},
   "outputs": [],
   "source": [
    "b=Counter(ta_data2)"
   ]
  },
  {
   "cell_type": "code",
   "execution_count": 27,
   "metadata": {},
   "outputs": [],
   "source": [
    "remove2=[]\n",
    "for i,j in b.items():\n",
    "    if j>1:\n",
    "        remove2.append(i)"
   ]
  },
  {
   "cell_type": "code",
   "execution_count": 28,
   "metadata": {},
   "outputs": [
    {
     "data": {
      "text/plain": [
       "71"
      ]
     },
     "execution_count": 28,
     "metadata": {},
     "output_type": "execute_result"
    }
   ],
   "source": [
    "len(remove2)"
   ]
  },
  {
   "cell_type": "code",
   "execution_count": 29,
   "metadata": {},
   "outputs": [],
   "source": [
    "en_data3=[]\n",
    "ta_data3=[]\n",
    "for i in range(len(ta_data2)):\n",
    "    if ta_data2[i] not in remove2:\n",
    "        en_data3.append(en_data2[i])\n",
    "        ta_data3.append(ta_data2[i])"
   ]
  },
  {
   "cell_type": "code",
   "execution_count": 30,
   "metadata": {},
   "outputs": [
    {
     "data": {
      "text/plain": [
       "186451"
      ]
     },
     "execution_count": 30,
     "metadata": {},
     "output_type": "execute_result"
    }
   ],
   "source": [
    "len(en_data3)"
   ]
  },
  {
   "cell_type": "code",
   "execution_count": 160,
   "metadata": {},
   "outputs": [],
   "source": [
    "save_clean_sentences(en_data3,ta_data3,\"clean.unique.en\",\"clean.unique.ta\")"
   ]
  },
  {
   "cell_type": "markdown",
   "metadata": {},
   "source": [
    "## Adjusting remaining puctuation"
   ]
  },
  {
   "cell_type": "code",
   "execution_count": 34,
   "metadata": {},
   "outputs": [],
   "source": [
    "new1=[]\n",
    "new2=[]\n",
    "for i in ta_data3:\n",
    "    i=i.replace(',',' ,')\n",
    "    i=i.replace('!',' !')\n",
    "    i=i.replace('?',' ?')\n",
    "    new1.append(i)\n",
    "for i in en_data3:\n",
    "    i=i.replace(',',' ,')\n",
    "    i=i.replace('!',' !')\n",
    "    i=i.replace('?',' ?')\n",
    "    new2.append(i)\n",
    "ta_data3=new1\n",
    "en_data3=new2"
   ]
  },
  {
   "cell_type": "code",
   "execution_count": 36,
   "metadata": {},
   "outputs": [
    {
     "data": {
      "text/plain": [
       "['ராஜாவாகிய ஆகாஸ் அரசாளும்போது தம்முடைய பாதகத்தினால் எறிந்துபோட்ட சகல பணிமுட்டுகளையும் முஸ்திப்பாக்கிப் பரிசுத்தம்பண்ணினோம்; இதோ , அவைகள் கர்த்தரின் ஆலயத்திற்கு முன்பாக இருக்கிறது என்றார்கள் .',\n",
       " 'சர்வதேச நாணய நிதியம் இலங்கைக்கு கடன் வழங்கினால் இதே போன்ற நிபந்தனைகள் திணிக்கப்படும் .',\n",
       " 'தற்போது அதற்கு எதிராக வாதாடுகிறார் சர்வதேச சட்டத்தை செயல்படுத்துவதற்குப் பதிலாக புதிய சட்டம் உருவாக்கப்பட்டு நிறுவப்பட வேண்டும் என்று எழுதுகிறார் .',\n",
       " 'அமெரிக்காவின் மூன்றாம் பெரிய கார் தயாரிப்பு நிறுவனமான கிறைஸ்லர் வியாழனன்று நியூ யோர்க்கில் திவாலடைந்ததற்காக மனு செய்தது; அத்தியாயம் 11 ன் படி மறு சீரமைத்து வெளிவரும் வரை அது தன்னுடைய உற்பத்தி நிலையங்களை மூடும் என்றும் அறிவித்துள்ளது .',\n",
       " 'மேலும் இனைவிட்டு தலிபானால் வெளியேற்றப்பட்ட 1995 இல் இருந்து ஈரானில் கூடுதலாக வாழ்ந்துவந்துள்ளார் .',\n",
       " 'நீங்கள் உங்கள் அடுத்த பதவி உயர்வு பெற வேண்டும் .',\n",
       " 'தேவனே , உமக்குக் காத்திருக்கிறவர்களுக்கு நீர் செய்பவைகளை , நீரேயல்லாமல் உலகத்தோற்றம்முதற்கொண்டு ஒருவரும் கேட்டதுமில்லை , செவியால் உணர்ந்ததுமில்லை , அவைகளைக் கண்டதுமில்லை .',\n",
       " 'நீங்கள் விரும்பினால் இந்த மக்கள் மிகவும் நீங்கள் இன்னும் துக்கம் அனுஷ்டிக்க முடியும் .',\n",
       " 'நான் பூமியை உண்டுபண்ணி , நானே அதின்மேல் இருக்கிற மனுஷனைச் சிருஷ்டித்தேன்; என் கரங்கள் வானங்களை விரித்தன; அவைகளின் சர்வசேனையையும் நான் கட்டளையிட்டேன் .',\n",
       " 'மஸார் இ ஷாரீவில் நிறுத்தி வைக்கப்பட்டு இப்பிரிவு முக்கியமாக வடக்கு ஆப்கானிஸ்தானில் தாக்குதல் நடவடிக்கைகளுக்கு பயன்படுத்தப்படும் போரினால் சின்னாபின்னமாக்கப்பட்டிருக்கும் நாட்டின் தென் பகுதிக்கும் இப்படை செல்லக் கூடும் என்பதுடன் நடவடிக்கைக்கு கால வரம்பு ஏதும் கிடையாது .']"
      ]
     },
     "execution_count": 36,
     "metadata": {},
     "output_type": "execute_result"
    }
   ],
   "source": [
    "ta_data3[0:10]"
   ]
  },
  {
   "cell_type": "code",
   "execution_count": 37,
   "metadata": {},
   "outputs": [],
   "source": [
    "save_clean_sentences(en_data3,ta_data3,\"clean.unique.en\",\"clean.unique.ta\")"
   ]
  },
  {
   "cell_type": "code",
   "execution_count": 38,
   "metadata": {},
   "outputs": [
    {
     "data": {
      "text/plain": [
       "186451"
      ]
     },
     "execution_count": 38,
     "metadata": {},
     "output_type": "execute_result"
    }
   ],
   "source": [
    "len(en_data3)"
   ]
  },
  {
   "cell_type": "markdown",
   "metadata": {},
   "source": [
    "## Divide and save"
   ]
  },
  {
   "cell_type": "code",
   "execution_count": 39,
   "metadata": {},
   "outputs": [],
   "source": [
    "en_train=en_data3[0:183451]\n",
    "ta_train=ta_data3[0:183451]"
   ]
  },
  {
   "cell_type": "code",
   "execution_count": 40,
   "metadata": {},
   "outputs": [],
   "source": [
    "en_val=en_data3[183451:184451]\n",
    "ta_val=ta_data3[183451:184451]"
   ]
  },
  {
   "cell_type": "code",
   "execution_count": 41,
   "metadata": {},
   "outputs": [],
   "source": [
    "en_test=en_data3[184451:]\n",
    "ta_test=ta_data3[184451:]"
   ]
  },
  {
   "cell_type": "code",
   "execution_count": 42,
   "metadata": {},
   "outputs": [],
   "source": [
    "save_clean_sentences(en_train,ta_train,\"train.en\",\"train.ta\")\n",
    "save_clean_sentences(en_test,ta_test,\"test.en\",\"test.ta\")\n",
    "save_clean_sentences(en_val,ta_val,\"val.en\",\"val.ta\")"
   ]
  },
  {
   "cell_type": "code",
   "execution_count": null,
   "metadata": {},
   "outputs": [],
   "source": []
  }
 ],
 "metadata": {
  "kernelspec": {
   "display_name": "Python 3",
   "language": "python",
   "name": "python3"
  },
  "language_info": {
   "codemirror_mode": {
    "name": "ipython",
    "version": 3
   },
   "file_extension": ".py",
   "mimetype": "text/x-python",
   "name": "python",
   "nbconvert_exporter": "python",
   "pygments_lexer": "ipython3",
   "version": "3.6.5"
  }
 },
 "nbformat": 4,
 "nbformat_minor": 2
}
